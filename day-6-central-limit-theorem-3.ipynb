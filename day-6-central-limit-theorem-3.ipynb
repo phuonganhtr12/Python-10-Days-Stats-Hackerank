{
 "cells": [
  {
   "cell_type": "code",
   "execution_count": 1,
   "metadata": {},
   "outputs": [
    {
     "name": "stdout",
     "output_type": "stream",
     "text": [
      "484.32\n",
      "515.68\n"
     ]
    }
   ],
   "source": [
    "'''\n",
    "You have a sample of 100 values from a population with mean 500 and with standard deviation 80. \n",
    "Compute the interval that covers the middle 95% of the distribution of the sample mean; \n",
    "in other words, compute A and B such that P(A < x < B) = 0.95. Use the value of z = 1.96. Note that z is the z-score.\n",
    "'''\n",
    "import math\n",
    "\n",
    "#Set data\n",
    "n = 100\n",
    "mean = 500\n",
    "std = 80\n",
    "z = 1.96\n",
    "\n",
    "#Calculate margin of error\n",
    "margin_of_error = z * std/math.sqrt(n)\n",
    "\n",
    "lower_bound = mean - margin_of_error\n",
    "higher_bound = mean + margin_of_error\n",
    "\n",
    "print(lower_bound)\n",
    "print(higher_bound)\n"
   ]
  }
 ],
 "metadata": {
  "kernelspec": {
   "display_name": "Python 3",
   "language": "python",
   "name": "python3"
  },
  "language_info": {
   "codemirror_mode": {
    "name": "ipython",
    "version": 3
   },
   "file_extension": ".py",
   "mimetype": "text/x-python",
   "name": "python",
   "nbconvert_exporter": "python",
   "pygments_lexer": "ipython3",
   "version": "3.11.0"
  },
  "orig_nbformat": 4,
  "vscode": {
   "interpreter": {
    "hash": "5f80c455da1dc101d9f66a16923589bd6dbb3429340af280f1efed2f72025e97"
   }
  }
 },
 "nbformat": 4,
 "nbformat_minor": 2
}
