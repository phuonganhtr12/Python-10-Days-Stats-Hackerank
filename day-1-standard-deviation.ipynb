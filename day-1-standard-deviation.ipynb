{
 "cells": [
  {
   "cell_type": "code",
   "execution_count": 1,
   "metadata": {},
   "outputs": [
    {
     "name": "stdout",
     "output_type": "stream",
     "text": [
      "14.1\n"
     ]
    }
   ],
   "source": [
    "import math\n",
    "\n",
    "n = int(input().strip())\n",
    "vals = list(map(int, input().rstrip().split()))\n",
    "\n",
    "def stdDev(arr):\n",
    "    mean = sum(arr) / len(arr)\n",
    "    n = len(arr)\n",
    "    variance = 0\n",
    "    for x in arr:\n",
    "        variance += (x - mean)**2\n",
    "    stDev = round(math.sqrt(variance / n),1)\n",
    "    return stDev\n",
    "\n",
    "print(stdDev(vals))"
   ]
  }
 ],
 "metadata": {
  "kernelspec": {
   "display_name": "Python 3",
   "language": "python",
   "name": "python3"
  },
  "language_info": {
   "codemirror_mode": {
    "name": "ipython",
    "version": 3
   },
   "file_extension": ".py",
   "mimetype": "text/x-python",
   "name": "python",
   "nbconvert_exporter": "python",
   "pygments_lexer": "ipython3",
   "version": "3.11.0"
  },
  "orig_nbformat": 4,
  "vscode": {
   "interpreter": {
    "hash": "5f80c455da1dc101d9f66a16923589bd6dbb3429340af280f1efed2f72025e97"
   }
  }
 },
 "nbformat": 4,
 "nbformat_minor": 2
}
