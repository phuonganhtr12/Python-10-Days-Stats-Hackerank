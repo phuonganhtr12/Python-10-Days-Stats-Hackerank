{
 "cells": [
  {
   "cell_type": "code",
   "execution_count": 3,
   "metadata": {},
   "outputs": [
    {
     "name": "stdout",
     "output_type": "stream",
     "text": [
      "15.87\n",
      "84.13\n",
      "15.87\n"
     ]
    }
   ],
   "source": [
    "'''\n",
    "The final grades for a Physics exam taken by a large group of students have a mean of 70 and a standard deviation of 10. \n",
    "If we can approximate the distribution of these grades by a normal distribution, what percentage of the students:\n",
    "\n",
    "1. Scored higher than 80 (i.e., have a grade > 80)?\n",
    "2. Passed the test (i.e., have a grade >= 60)?\n",
    "3. Failed the test (i.e., have a grade < 60)?\n",
    "'''\n",
    "\n",
    "import math\n",
    "\n",
    "#Define function\n",
    "def culmulative_distribution (x, mean, std):\n",
    "    return 1/2 * (1+math.erf((x-mean)/(std*math.sqrt(2))))\n",
    "\n",
    "#Set data\n",
    "initial_values = list(map(float, input().split()))\n",
    "mean = initial_values[0]\n",
    "std = initial_values[1]\n",
    "val_first_q = float(input())\n",
    "val_second_third_q = float(input())\n",
    "\n",
    "#Calculate probability\n",
    "probability_higher_80 = 1 - culmulative_distribution(val_first_q, mean, std)\n",
    "probability_higher_60 = 1 - culmulative_distribution(val_second_third_q, mean, std)\n",
    "probability_less_than_60 = culmulative_distribution(val_second_third_q, mean, std)\n",
    "\n",
    "print(round(probability_higher_80,3))\n",
    "print(round(probability_higher_60,3))\n",
    "print(round(probability_less_than_60,3))"
   ]
  }
 ],
 "metadata": {
  "kernelspec": {
   "display_name": "Python 3",
   "language": "python",
   "name": "python3"
  },
  "language_info": {
   "codemirror_mode": {
    "name": "ipython",
    "version": 3
   },
   "file_extension": ".py",
   "mimetype": "text/x-python",
   "name": "python",
   "nbconvert_exporter": "python",
   "pygments_lexer": "ipython3",
   "version": "3.11.0"
  },
  "orig_nbformat": 4,
  "vscode": {
   "interpreter": {
    "hash": "5f80c455da1dc101d9f66a16923589bd6dbb3429340af280f1efed2f72025e97"
   }
  }
 },
 "nbformat": 4,
 "nbformat_minor": 2
}
