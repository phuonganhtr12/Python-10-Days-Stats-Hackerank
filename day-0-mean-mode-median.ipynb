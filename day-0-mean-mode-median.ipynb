{
 "cells": [
  {
   "cell_type": "code",
   "execution_count": 2,
   "metadata": {},
   "outputs": [
    {
     "name": "stdout",
     "output_type": "stream",
     "text": [
      "43900.6\n",
      "44627.5\n",
      "4978\n"
     ]
    }
   ],
   "source": [
    "size = int(input())\n",
    "numbers = [int(x) for x in input().split()]\n",
    "\n",
    "def calculate_mean(data):\n",
    "    mean = sum(data)/len(data)\n",
    "    return mean\n",
    "\n",
    "def calculate_median(data):\n",
    "    sorted_data = sorted(data)\n",
    "    if len(sorted_data) % 2 == 0:\n",
    "        middle_left = sorted_data[len(sorted_data)//2 - 1]\n",
    "        middle_right = sorted_data[len(sorted_data)//2]\n",
    "        median = (middle_left + middle_right)/2\n",
    "    else:\n",
    "        median = len(sorted_data)//2\n",
    "    return median\n",
    "\n",
    "def calculate_mode(data):\n",
    "    count_dict = {}\n",
    "    for value in data:\n",
    "        if value in count_dict:\n",
    "            count_dict[value] +=1\n",
    "        else:\n",
    "            count_dict[value] = 1\n",
    "    \n",
    "    max_count = max(count_dict.values())\n",
    "    mode = [key for key, value in count_dict.items() if value == max_count]\n",
    "    smallest_mode = sorted(mode)[0] \n",
    "    return smallest_mode\n",
    "\n",
    "print(calculate_mean(numbers))\n",
    "print(calculate_median(numbers))\n",
    "print(calculate_mode(numbers))"
   ]
  }
 ],
 "metadata": {
  "kernelspec": {
   "display_name": "Python 3",
   "language": "python",
   "name": "python3"
  },
  "language_info": {
   "codemirror_mode": {
    "name": "ipython",
    "version": 3
   },
   "file_extension": ".py",
   "mimetype": "text/x-python",
   "name": "python",
   "nbconvert_exporter": "python",
   "pygments_lexer": "ipython3",
   "version": "3.11.0"
  },
  "orig_nbformat": 4,
  "vscode": {
   "interpreter": {
    "hash": "5f80c455da1dc101d9f66a16923589bd6dbb3429340af280f1efed2f72025e97"
   }
  }
 },
 "nbformat": 4,
 "nbformat_minor": 2
}
