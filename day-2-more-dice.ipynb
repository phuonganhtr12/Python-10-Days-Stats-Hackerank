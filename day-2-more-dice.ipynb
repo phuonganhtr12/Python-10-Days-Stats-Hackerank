{
 "cells": [
  {
   "cell_type": "code",
   "execution_count": 2,
   "metadata": {},
   "outputs": [
    {
     "name": "stdout",
     "output_type": "stream",
     "text": [
      "0.1111111111111111\n"
     ]
    }
   ],
   "source": [
    "'''\n",
    "In a single toss of 2 fair (evenly-weighted) six-sided dice, find the probability that the values rolled by each die will be different and the two dice have a sum of 6.\n",
    "'''\n",
    "\n",
    "dice_1 = [1, 2, 3, 4, 5, 6]\n",
    "dice_2 = [1, 2, 3, 4, 5, 6]\n",
    "total_possibilities = len(dice_1) * len(dice_2)\n",
    "success_possibilities = 0\n",
    "\n",
    "for x in range(len(dice_1)):\n",
    "    for j in range(len(dice_2)):\n",
    "        if (dice_1[x] + dice_2[j]) == 6 and dice_1[x] != dice_2[j]:\n",
    "            success_possibilities += 1\n",
    "            \n",
    "probability = success_possibilities / total_possibilities\n",
    "print(probability)"
   ]
  }
 ],
 "metadata": {
  "kernelspec": {
   "display_name": "Python 3",
   "language": "python",
   "name": "python3"
  },
  "language_info": {
   "codemirror_mode": {
    "name": "ipython",
    "version": 3
   },
   "file_extension": ".py",
   "mimetype": "text/x-python",
   "name": "python",
   "nbconvert_exporter": "python",
   "pygments_lexer": "ipython3",
   "version": "3.11.0"
  },
  "orig_nbformat": 4,
  "vscode": {
   "interpreter": {
    "hash": "5f80c455da1dc101d9f66a16923589bd6dbb3429340af280f1efed2f72025e97"
   }
  }
 },
 "nbformat": 4,
 "nbformat_minor": 2
}
