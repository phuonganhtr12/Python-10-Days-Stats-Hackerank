{
 "cells": [
  {
   "cell_type": "code",
   "execution_count": 6,
   "metadata": {},
   "outputs": [
    {
     "name": "stdout",
     "output_type": "stream",
     "text": [
      "0.8683\n"
     ]
    }
   ],
   "source": [
    "'''\n",
    "The probability that a machine produces a defective product is 1/3.\n",
    "What is the probability that the 1st defect is found during the first 5 inspections?\n",
    "'''\n",
    "\n",
    "#Set data\n",
    "k = 5\n",
    "p = 1/3\n",
    "\n",
    "#Calculate probability\n",
    "probability = 0\n",
    "for x in range(1, k+1):\n",
    "    probability += (1-p)**(x-1) * p\n",
    "    \n",
    "print(round(probability,4))"
   ]
  }
 ],
 "metadata": {
  "kernelspec": {
   "display_name": "Python 3",
   "language": "python",
   "name": "python3"
  },
  "language_info": {
   "codemirror_mode": {
    "name": "ipython",
    "version": 3
   },
   "file_extension": ".py",
   "mimetype": "text/x-python",
   "name": "python",
   "nbconvert_exporter": "python",
   "pygments_lexer": "ipython3",
   "version": "3.11.0"
  },
  "orig_nbformat": 4,
  "vscode": {
   "interpreter": {
    "hash": "5f80c455da1dc101d9f66a16923589bd6dbb3429340af280f1efed2f72025e97"
   }
  }
 },
 "nbformat": 4,
 "nbformat_minor": 2
}
