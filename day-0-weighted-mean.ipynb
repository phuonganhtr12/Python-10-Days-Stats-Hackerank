{
 "cells": [
  {
   "cell_type": "code",
   "execution_count": null,
   "metadata": {},
   "outputs": [],
   "source": [
    "n = int(input().strip())\n",
    "vals = list(map(int, input().rstrip().split()))\n",
    "weights = list(map(int, input().rstrip().split()))  \n",
    "\n",
    "def weightedMean(X, W):\n",
    "    weighted_sum = 0\n",
    "    for i in range(len(X)):\n",
    "        weighted_sum += X[i] * W[i] \n",
    "    total_weight = sum(W)\n",
    "    weightedMean = round(weighted_sum / total_weight,1)\n",
    "    return weightedMean\n",
    "\n",
    "print(weightedMean(vals, weights))    "
   ]
  }
 ],
 "metadata": {
  "kernelspec": {
   "display_name": "Python 3",
   "language": "python",
   "name": "python3"
  },
  "language_info": {
   "name": "python",
   "version": "3.11.0 (main, Oct 24 2022, 18:26:48) [MSC v.1933 64 bit (AMD64)]"
  },
  "orig_nbformat": 4,
  "vscode": {
   "interpreter": {
    "hash": "5f80c455da1dc101d9f66a16923589bd6dbb3429340af280f1efed2f72025e97"
   }
  }
 },
 "nbformat": 4,
 "nbformat_minor": 2
}
