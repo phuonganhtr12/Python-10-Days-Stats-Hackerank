{
 "cells": [
  {
   "cell_type": "code",
   "execution_count": 1,
   "metadata": {},
   "outputs": [
    {
     "name": "stdout",
     "output_type": "stream",
     "text": [
      "0.06680597042865247\n"
     ]
    }
   ],
   "source": [
    "'''\n",
    "Question: A random variable, X, follows Poisson distribution with mean of 2.5\n",
    "Find the probability with which the random variable X is equal to 5.\n",
    "'''\n",
    "\n",
    "#Set data\n",
    "mean = float(input())\n",
    "x = float(input())\n",
    "e = 2.7182\n",
    "\n",
    "#Define function\n",
    "def factorial(x):\n",
    "    if x > 1:\n",
    "        return x * factorial(x-1)\n",
    "    if x == 1 or x == 0:\n",
    "        return 1\n",
    "\n",
    "#Calculate probability\n",
    "probability = mean**x * e**(-mean) / factorial(x)\n",
    "print(probability)\n"
   ]
  }
 ],
 "metadata": {
  "kernelspec": {
   "display_name": "Python 3",
   "language": "python",
   "name": "python3"
  },
  "language_info": {
   "codemirror_mode": {
    "name": "ipython",
    "version": 3
   },
   "file_extension": ".py",
   "mimetype": "text/x-python",
   "name": "python",
   "nbconvert_exporter": "python",
   "pygments_lexer": "ipython3",
   "version": "3.11.0"
  },
  "orig_nbformat": 4,
  "vscode": {
   "interpreter": {
    "hash": "5f80c455da1dc101d9f66a16923589bd6dbb3429340af280f1efed2f72025e97"
   }
  }
 },
 "nbformat": 4,
 "nbformat_minor": 2
}
