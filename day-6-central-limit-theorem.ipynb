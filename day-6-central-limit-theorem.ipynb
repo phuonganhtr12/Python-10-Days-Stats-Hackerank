{
 "cells": [
  {
   "cell_type": "code",
   "execution_count": 4,
   "metadata": {},
   "outputs": [
    {
     "name": "stdout",
     "output_type": "stream",
     "text": [
      "0.009815328628645315\n"
     ]
    }
   ],
   "source": [
    "'''\n",
    "A large elevator can transport a maximum of 9800 pounds. \n",
    "Suppose a load of cargo containing 49 boxes must be transported via the elevator. \n",
    "The box weight of this type of cargo follows a distribution with a mean of 205 pounds and a standard deviation of 15 pounds. \n",
    "Based on this information, what is the probability that all 49 boxes can be safely loaded into the freight elevator and transported?\n",
    "'''\n",
    "\n",
    "import math\n",
    "\n",
    "#Set data\n",
    "e = 2.7182\n",
    "mean = 205\n",
    "std = 15\n",
    "x = 9800\n",
    "n = 49\n",
    "\n",
    "new_mean = mean * n\n",
    "new_std = std * math.sqrt(n)\n",
    "\n",
    "#Define function\n",
    "def culmulative_distribution (x, mean, std):\n",
    "    return 1/2 * (1+math.erf((x-mean)/(std*math.sqrt(2))))\n",
    "\n",
    "print(culmulative_distribution(x, new_mean, new_std))"
   ]
  }
 ],
 "metadata": {
  "kernelspec": {
   "display_name": "Python 3",
   "language": "python",
   "name": "python3"
  },
  "language_info": {
   "codemirror_mode": {
    "name": "ipython",
    "version": 3
   },
   "file_extension": ".py",
   "mimetype": "text/x-python",
   "name": "python",
   "nbconvert_exporter": "python",
   "pygments_lexer": "ipython3",
   "version": "3.11.0"
  },
  "orig_nbformat": 4,
  "vscode": {
   "interpreter": {
    "hash": "5f80c455da1dc101d9f66a16923589bd6dbb3429340af280f1efed2f72025e97"
   }
  }
 },
 "nbformat": 4,
 "nbformat_minor": 2
}
