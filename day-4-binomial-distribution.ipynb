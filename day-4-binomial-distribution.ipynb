{
 "cells": [
  {
   "cell_type": "code",
   "execution_count": 2,
   "metadata": {},
   "outputs": [
    {
     "name": "stdout",
     "output_type": "stream",
     "text": [
      "0.6957033161509107\n"
     ]
    }
   ],
   "source": [
    "'''\n",
    "The ratio of boys to girls for babies born in Russia is 1.09:1. \n",
    "If there is 1 child born per birth, what proportion of Russian families with exactly 6 children will have at least 3 boys?\n",
    "'''\n",
    "\n",
    "#Set data\n",
    "p = 1.09/(1+1.09)\n",
    "n = 6\n",
    "\n",
    "\n",
    "#Define functions\n",
    "def factorial(n):\n",
    "    if n > 1: \n",
    "        return n*factorial(n-1)\n",
    "    if n == 1 or n == 0:\n",
    "        return 1\n",
    "\n",
    "def binomial(x, n, p):\n",
    "    probability = factorial(n) / (factorial(x) * factorial(n-x)) * p**x * (1-p)**(n-x)\n",
    "    return probability\n",
    "\n",
    "#Calculate probability\n",
    "probability_3_boys = binomial(3, n, p)\n",
    "probability_4_boys = binomial(4, n, p)\n",
    "probability_5_boys = binomial(5, n, p)\n",
    "probability_6_boys = binomial(6, n, p)\n",
    "\n",
    "print(probability_3_boys + probability_4_boys + probability_5_boys + probability_6_boys)"
   ]
  }
 ],
 "metadata": {
  "kernelspec": {
   "display_name": "Python 3",
   "language": "python",
   "name": "python3"
  },
  "language_info": {
   "codemirror_mode": {
    "name": "ipython",
    "version": 3
   },
   "file_extension": ".py",
   "mimetype": "text/x-python",
   "name": "python",
   "nbconvert_exporter": "python",
   "pygments_lexer": "ipython3",
   "version": "3.11.0"
  },
  "orig_nbformat": 4,
  "vscode": {
   "interpreter": {
    "hash": "5f80c455da1dc101d9f66a16923589bd6dbb3429340af280f1efed2f72025e97"
   }
  }
 },
 "nbformat": 4,
 "nbformat_minor": 2
}
