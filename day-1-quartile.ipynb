{
 "cells": [
  {
   "cell_type": "code",
   "execution_count": 3,
   "metadata": {},
   "outputs": [
    {
     "name": "stdout",
     "output_type": "stream",
     "text": [
      "6\n",
      "12\n",
      "16\n"
     ]
    }
   ],
   "source": [
    "n = int(input().strip())\n",
    "data = list(map(int, input().rstrip().split()))\n",
    "sorted_data = sorted(data)\n",
    "\n",
    "def median(arr):\n",
    "    n = len(arr)\n",
    "    if n % 2 == 0:\n",
    "        median = (arr[int(n/2)] + arr[int(n/2-1)])/2\n",
    "    else: \n",
    "        median = arr[int(n//2)]\n",
    "    return int(median)\n",
    "\n",
    "if n % 2 == 0:\n",
    "    lower_half = sorted_data[:int(n/2)]\n",
    "    higher_half = sorted_data[int(n/2):]\n",
    "else:\n",
    "    lower_half = sorted_data[:int(n/2)]\n",
    "    higher_half = sorted_data[int(n/2)+1:]\n",
    "\n",
    "quartile_1 = median(lower_half)\n",
    "quartile_2 = median(sorted_data)\n",
    "quartile_3 = median(higher_half)\n",
    "\n",
    "print(quartile_1)\n",
    "print(quartile_2)\n",
    "print(quartile_3)"
   ]
  }
 ],
 "metadata": {
  "kernelspec": {
   "display_name": "Python 3",
   "language": "python",
   "name": "python3"
  },
  "language_info": {
   "codemirror_mode": {
    "name": "ipython",
    "version": 3
   },
   "file_extension": ".py",
   "mimetype": "text/x-python",
   "name": "python",
   "nbconvert_exporter": "python",
   "pygments_lexer": "ipython3",
   "version": "3.11.0"
  },
  "orig_nbformat": 4,
  "vscode": {
   "interpreter": {
    "hash": "5f80c455da1dc101d9f66a16923589bd6dbb3429340af280f1efed2f72025e97"
   }
  }
 },
 "nbformat": 4,
 "nbformat_minor": 2
}
