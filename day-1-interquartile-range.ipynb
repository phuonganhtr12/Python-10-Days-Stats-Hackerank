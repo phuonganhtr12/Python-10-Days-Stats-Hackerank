{
 "cells": [
  {
   "cell_type": "code",
   "execution_count": 1,
   "metadata": {},
   "outputs": [
    {
     "name": "stdout",
     "output_type": "stream",
     "text": [
      "9.0\n"
     ]
    }
   ],
   "source": [
    "n = int(input().strip())\n",
    "val = list(map(int, input().rstrip().split()))\n",
    "freq = list(map(int, input().rstrip().split()))\n",
    "\n",
    "new_data = []\n",
    "for x in range(len(val)):\n",
    "    for i in range(freq[x]):\n",
    "        new_data.append(val[x])\n",
    "        \n",
    "new_data = sorted(new_data)\n",
    "n = len(new_data)\n",
    "\n",
    "def median(data):\n",
    "    sorted_data = sorted(data)\n",
    "    n = len(data)\n",
    "    if n % 2 == 0:\n",
    "        median = (sorted_data[int(n/2)] + sorted_data[int(n/2-1)])/2\n",
    "    else:\n",
    "        median = sorted_data[int(n//2)]\n",
    "    return round(float(median),1)\n",
    "\n",
    "if n % 2 == 0:\n",
    "    lower_half = new_data[:int(n/2)]\n",
    "    higher_half = new_data[int(n/2):]\n",
    "else:\n",
    "    lower_half = new_data[:int(n//2)]\n",
    "    higher_half = new_data[int(n//2+1):]\n",
    "    \n",
    "quartile_1 = median(lower_half)\n",
    "quartile_3 = median(higher_half)\n",
    "interquartile_range = quartile_3 - quartile_1\n",
    "\n",
    "print(interquartile_range)"
   ]
  }
 ],
 "metadata": {
  "kernelspec": {
   "display_name": "Python 3",
   "language": "python",
   "name": "python3"
  },
  "language_info": {
   "codemirror_mode": {
    "name": "ipython",
    "version": 3
   },
   "file_extension": ".py",
   "mimetype": "text/x-python",
   "name": "python",
   "nbconvert_exporter": "python",
   "pygments_lexer": "ipython3",
   "version": "3.11.0"
  },
  "orig_nbformat": 4,
  "vscode": {
   "interpreter": {
    "hash": "5f80c455da1dc101d9f66a16923589bd6dbb3429340af280f1efed2f72025e97"
   }
  }
 },
 "nbformat": 4,
 "nbformat_minor": 2
}
