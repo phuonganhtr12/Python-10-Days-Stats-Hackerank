{
 "cells": [
  {
   "cell_type": "code",
   "execution_count": 10,
   "metadata": {},
   "outputs": [
    {
     "name": "stdout",
     "output_type": "stream",
     "text": [
      "0.8913182062780246\n",
      "0.3417249657959586\n"
     ]
    }
   ],
   "source": [
    "'''\n",
    "A manufacturer of metal pistons finds that, on average, 12% of the pistons they manufacture are rejected because they are incorrectly sized. \n",
    "What is the probability that a batch of 10 pistons will contain:\n",
    "\n",
    "1. No more than 2 rejects?\n",
    "2. At least 2 rejects?\n",
    "'''\n",
    "#Define functions\n",
    "def factorial(n):\n",
    "    if n > 1: \n",
    "        return n*factorial(n-1)\n",
    "    if n == 1 or n == 0:\n",
    "        return 1\n",
    "\n",
    "def binomial(x, n, p):\n",
    "    probability = factorial(n) / (factorial(x) * factorial(n-x)) * p**x * (1-p)**(n-x)\n",
    "    return probability\n",
    "\n",
    "#Set data\n",
    "p = 0.12\n",
    "n = 10\n",
    "\n",
    "#Calculate probability: No more than 2 rejects\n",
    "p_no_more_2_rejects = 0\n",
    "for x in range(n+1): # Include 10 in the range\n",
    "    if x <= 2:\n",
    "        p_no_more_2_rejects += binomial(x, n, p)\n",
    "print(p_no_more_2_rejects)\n",
    "\n",
    "##Calculate probability: At least 2 rejects\n",
    "p_at_least_2_rejects = 0\n",
    "for x in range(n+1): # Include 10 in the range\n",
    "    if x >= 2:\n",
    "        p_at_least_2_rejects += binomial(x, n, p)\n",
    "print(p_at_least_2_rejects)\n"
   ]
  }
 ],
 "metadata": {
  "kernelspec": {
   "display_name": "Python 3",
   "language": "python",
   "name": "python3"
  },
  "language_info": {
   "codemirror_mode": {
    "name": "ipython",
    "version": 3
   },
   "file_extension": ".py",
   "mimetype": "text/x-python",
   "name": "python",
   "nbconvert_exporter": "python",
   "pygments_lexer": "ipython3",
   "version": "3.11.0"
  },
  "orig_nbformat": 4,
  "vscode": {
   "interpreter": {
    "hash": "5f80c455da1dc101d9f66a16923589bd6dbb3429340af280f1efed2f72025e97"
   }
  }
 },
 "nbformat": 4,
 "nbformat_minor": 2
}
