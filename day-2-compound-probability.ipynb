{
 "cells": [
  {
   "cell_type": "code",
   "execution_count": 2,
   "metadata": {},
   "outputs": [
    {
     "name": "stdout",
     "output_type": "stream",
     "text": [
      "0.47619047619047616\n"
     ]
    }
   ],
   "source": [
    "'''\n",
    "There are 3 urns labeled X, Y, and Z.\n",
    "\n",
    "Urn X contains 4 red balls and 3 black balls.\n",
    "Urn Y contains 5 red balls and 4 black balls.\n",
    "Urn Z contains 4 red balls and 4 black balls.\n",
    "\n",
    "One ball is drawn from each of the 3 urns. What is the probability that, of the 3 balls drawn, 2 are red and 1 is black?\n",
    "'''\n",
    "\n",
    "x = {\"Red\": 4/7, \"Black\": 3/7}\n",
    "y = {\"Red\": 5/9, \"Black\": 4/9}\n",
    "z = {\"Red\": 4/8, \"Black\": 4/8}\n",
    "\n",
    "#3 possibilities for 3 red 1 black: red red black (RRB), red black red (RBR), black red red (BRR)\n",
    "RRB = x[\"Red\"] * y[\"Red\"] * z[\"Black\"]\n",
    "RBR = x[\"Red\"] * z[\"Black\"] * y[\"Red\"]\n",
    "BRR = z[\"Black\"] * x[\"Red\"] * y[\"Red\"]\n",
    "\n",
    "probability = RRB + RBR + BRR\n",
    "print(probability)"
   ]
  }
 ],
 "metadata": {
  "kernelspec": {
   "display_name": "Python 3",
   "language": "python",
   "name": "python3"
  },
  "language_info": {
   "codemirror_mode": {
    "name": "ipython",
    "version": 3
   },
   "file_extension": ".py",
   "mimetype": "text/x-python",
   "name": "python",
   "nbconvert_exporter": "python",
   "pygments_lexer": "ipython3",
   "version": "3.11.0"
  },
  "orig_nbformat": 4,
  "vscode": {
   "interpreter": {
    "hash": "5f80c455da1dc101d9f66a16923589bd6dbb3429340af280f1efed2f72025e97"
   }
  }
 },
 "nbformat": 4,
 "nbformat_minor": 2
}
