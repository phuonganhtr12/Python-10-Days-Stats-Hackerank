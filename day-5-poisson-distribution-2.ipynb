{
 "cells": [
  {
   "cell_type": "code",
   "execution_count": 2,
   "metadata": {},
   "outputs": [
    {
     "name": "stdout",
     "output_type": "stream",
     "text": [
      "226.176\n",
      "286.1\n"
     ]
    }
   ],
   "source": [
    "'''\n",
    "The number of repairs, X, that machine A needs is a Poisson random variable with mean 0.88. The daily cost of operating\n",
    "A is Ca = 160 + 40X^2.\n",
    "The number of repairs, Y, that machine B needs is a Poisson random variable with mean 1.55. The daily cost of operating\n",
    "B is Cb = 128 + 40Y^2.\n",
    "Find and print the expected daily cost for each machine.\n",
    "'''\n",
    "#Set data\n",
    "means = list(map(float, input().split()))\n",
    "mean_A = means[0]\n",
    "mean_B = means[1]\n",
    "\n",
    "#Calculate cost: E(X**2) = mean + mean**2\n",
    "cost_A = 160 + 40 * (mean_A + mean_A**2)\n",
    "cost_B = 128 + 40 * (mean_B + mean_B**2)\n",
    "\n",
    "print(round(cost_A),3)\n",
    "print(round(cost_B),3)"
   ]
  }
 ],
 "metadata": {
  "kernelspec": {
   "display_name": "Python 3",
   "language": "python",
   "name": "python3"
  },
  "language_info": {
   "codemirror_mode": {
    "name": "ipython",
    "version": 3
   },
   "file_extension": ".py",
   "mimetype": "text/x-python",
   "name": "python",
   "nbconvert_exporter": "python",
   "pygments_lexer": "ipython3",
   "version": "3.11.0"
  },
  "orig_nbformat": 4,
  "vscode": {
   "interpreter": {
    "hash": "5f80c455da1dc101d9f66a16923589bd6dbb3429340af280f1efed2f72025e97"
   }
  }
 },
 "nbformat": 4,
 "nbformat_minor": 2
}
