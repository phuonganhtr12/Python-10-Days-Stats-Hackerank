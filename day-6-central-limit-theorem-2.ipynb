{
 "cells": [
  {
   "cell_type": "code",
   "execution_count": 1,
   "metadata": {},
   "outputs": [
    {
     "name": "stdout",
     "output_type": "stream",
     "text": [
      "0.691\n"
     ]
    }
   ],
   "source": [
    "'''\n",
    "The number of tickets purchased by each student for the University X vs. University Y football game \n",
    "follows a distribution that has a mean of 2.4 and a standard deviation of 2.0.\n",
    "\n",
    "A few hours before the game starts, 100 eager students line up to purchase last-minute tickets. \n",
    "If there are only 250 tickets left, what is the probability that all 100 students will be able to purchase tickets?\n",
    "'''\n",
    "\n",
    "import math\n",
    "\n",
    "#Set data\n",
    "mean = 2.4\n",
    "std = 2.0\n",
    "n = 100\n",
    "x = 250\n",
    "\n",
    "new_mean = mean * n\n",
    "new_std = std * math.sqrt(n)\n",
    "\n",
    "#Define function\n",
    "def culmulative_distribution (x, mean, std):\n",
    "    return 1/2 * (1+math.erf((x-mean)/(std*math.sqrt(2))))\n",
    "\n",
    "print(round(culmulative_distribution(x, new_mean, new_std),3))"
   ]
  }
 ],
 "metadata": {
  "kernelspec": {
   "display_name": "Python 3",
   "language": "python",
   "name": "python3"
  },
  "language_info": {
   "codemirror_mode": {
    "name": "ipython",
    "version": 3
   },
   "file_extension": ".py",
   "mimetype": "text/x-python",
   "name": "python",
   "nbconvert_exporter": "python",
   "pygments_lexer": "ipython3",
   "version": "3.11.0"
  },
  "orig_nbformat": 4,
  "vscode": {
   "interpreter": {
    "hash": "5f80c455da1dc101d9f66a16923589bd6dbb3429340af280f1efed2f72025e97"
   }
  }
 },
 "nbformat": 4,
 "nbformat_minor": 2
}
