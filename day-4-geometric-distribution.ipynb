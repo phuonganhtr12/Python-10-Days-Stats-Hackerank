{
 "cells": [
  {
   "cell_type": "code",
   "execution_count": 1,
   "metadata": {},
   "outputs": [
    {
     "name": "stdout",
     "output_type": "stream",
     "text": [
      "0.06584362139917699\n"
     ]
    }
   ],
   "source": [
    "'''\n",
    "The probability that a machine produces a defective product is 1/3. \n",
    "What is the probability that the 1st defect is found during the 5th inspection?\n",
    "'''\n",
    "\n",
    "#Set data\n",
    "p = 1/3\n",
    "k = 5\n",
    "\n",
    "#Calculate geometric distribution\n",
    "probability = (1-p)**(k-1) * p\n",
    "print(probability)"
   ]
  }
 ],
 "metadata": {
  "kernelspec": {
   "display_name": "Python 3",
   "language": "python",
   "name": "python3"
  },
  "language_info": {
   "codemirror_mode": {
    "name": "ipython",
    "version": 3
   },
   "file_extension": ".py",
   "mimetype": "text/x-python",
   "name": "python",
   "nbconvert_exporter": "python",
   "pygments_lexer": "ipython3",
   "version": "3.11.0"
  },
  "orig_nbformat": 4,
  "vscode": {
   "interpreter": {
    "hash": "5f80c455da1dc101d9f66a16923589bd6dbb3429340af280f1efed2f72025e97"
   }
  }
 },
 "nbformat": 4,
 "nbformat_minor": 2
}
