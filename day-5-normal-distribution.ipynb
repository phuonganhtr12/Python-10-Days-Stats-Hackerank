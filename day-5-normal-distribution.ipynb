{
 "cells": [
  {
   "cell_type": "code",
   "execution_count": 4,
   "metadata": {},
   "outputs": [
    {
     "name": "stdout",
     "output_type": "stream",
     "text": [
      "0.401\n",
      "0.341\n"
     ]
    }
   ],
   "source": [
    "'''\n",
    "In a certain plant, the time taken to assemble a car is a random variable, X, \n",
    "having a normal distribution with a mean of 20 hours and a standard deviation of 2 hours. \n",
    "What is the probability that a car can be assembled at this plant in:\n",
    "1. Less than 19.5 hours?\n",
    "2. Between 20 and 22 hours?\n",
    "'''\n",
    "\n",
    "import math\n",
    "\n",
    "#Define function\n",
    "def culmulative_distribution (x, mean, std):\n",
    "    return 1/2 * (1+math.erf((x-mean)/(std*math.sqrt(2))))\n",
    "\n",
    "#Set data\n",
    "initial_values = list(map(float, input().split()))\n",
    "mean = initial_values[0]\n",
    "std = initial_values[1]\n",
    "less_period = float(input())\n",
    "between_period = list(map(float, input().split()))\n",
    "\n",
    "#Calculate probability: Less than 19.5 hours\n",
    "less_than_195 = culmulative_distribution(less_period, mean, std)\n",
    "between_20_22 = culmulative_distribution(between_period[1], mean, std) - culmulative_distribution(between_period[0], mean, std)\n",
    "\n",
    "print(round(less_than_195, 3))\n",
    "print(round(between_20_22, 3))"
   ]
  }
 ],
 "metadata": {
  "kernelspec": {
   "display_name": "Python 3",
   "language": "python",
   "name": "python3"
  },
  "language_info": {
   "codemirror_mode": {
    "name": "ipython",
    "version": 3
   },
   "file_extension": ".py",
   "mimetype": "text/x-python",
   "name": "python",
   "nbconvert_exporter": "python",
   "pygments_lexer": "ipython3",
   "version": "3.11.0"
  },
  "orig_nbformat": 4,
  "vscode": {
   "interpreter": {
    "hash": "5f80c455da1dc101d9f66a16923589bd6dbb3429340af280f1efed2f72025e97"
   }
  }
 },
 "nbformat": 4,
 "nbformat_minor": 2
}
